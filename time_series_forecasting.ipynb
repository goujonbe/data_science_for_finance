{
 "cells": [
  {
   "cell_type": "markdown",
   "metadata": {},
   "source": [
    "# Stock prices prediction\n",
    "\n",
    "In this notebook, we'll compare different methods to predict stock prices. Methods for time series forecasting are not only used in finance, they are everywhere. Check this excellent [video](https://www.youtube.com/watch?v=JntA9XaTebs&t=2s) for examples of applications.\n",
    "\n",
    "The aim is to study two approaches:\n",
    "\n",
    "* statistical \n",
    "* machine learning \n",
    "\n",
    "Data are from Quandl API, a financial data provider."
   ]
  },
  {
   "cell_type": "code",
   "execution_count": 1,
   "metadata": {},
   "outputs": [],
   "source": [
    "# iconic trio for data science\n",
    "import pandas as pd\n",
    "import numpy as np\n",
    "import matplotlib.pyplot as plt\n",
    "import seaborn as sns\n",
    "\n",
    "from config import get_quandl_api_key\n",
    "\n",
    "%matplotlib inline\n",
    "\n",
    "# python module for quandl, a financial data provider\n",
    "import quandl\n",
    "\n",
    "# statistics module\n",
    "import statsmodels.api as sm\n",
    "\n",
    "plt.rcParams['figure.figsize'] = [30,15]\n",
    "plt.rcParams['font.size'] = 22"
   ]
  },
  {
   "cell_type": "code",
   "execution_count": 2,
   "metadata": {},
   "outputs": [],
   "source": [
    "# set up a client to the Quandl API\n",
    "quandl_api_key = get_quandl_api_key()\n",
    "quandl.ApiConfig.api_key = quandl_api_key\n",
    "quandl_code = \"EOD/NKE\" # code for the Nike Inc. (New York Stock Exchange)\n",
    "\n",
    "# get the data \n",
    "nike_data = quandl.get(quandl_code)"
   ]
  },
  {
   "cell_type": "code",
   "execution_count": 3,
   "metadata": {},
   "outputs": [
    {
     "data": {
      "text/html": [
       "<div>\n",
       "<style scoped>\n",
       "    .dataframe tbody tr th:only-of-type {\n",
       "        vertical-align: middle;\n",
       "    }\n",
       "\n",
       "    .dataframe tbody tr th {\n",
       "        vertical-align: top;\n",
       "    }\n",
       "\n",
       "    .dataframe thead th {\n",
       "        text-align: right;\n",
       "    }\n",
       "</style>\n",
       "<table border=\"1\" class=\"dataframe\">\n",
       "  <thead>\n",
       "    <tr style=\"text-align: right;\">\n",
       "      <th></th>\n",
       "      <th>Open</th>\n",
       "      <th>High</th>\n",
       "      <th>Low</th>\n",
       "      <th>Close</th>\n",
       "      <th>Volume</th>\n",
       "      <th>Dividend</th>\n",
       "      <th>Split</th>\n",
       "      <th>Adj_Open</th>\n",
       "      <th>Adj_High</th>\n",
       "      <th>Adj_Low</th>\n",
       "      <th>Adj_Close</th>\n",
       "      <th>Adj_Volume</th>\n",
       "    </tr>\n",
       "    <tr>\n",
       "      <th>Date</th>\n",
       "      <th></th>\n",
       "      <th></th>\n",
       "      <th></th>\n",
       "      <th></th>\n",
       "      <th></th>\n",
       "      <th></th>\n",
       "      <th></th>\n",
       "      <th></th>\n",
       "      <th></th>\n",
       "      <th></th>\n",
       "      <th></th>\n",
       "      <th></th>\n",
       "    </tr>\n",
       "  </thead>\n",
       "  <tbody>\n",
       "    <tr>\n",
       "      <th>1980-12-02</th>\n",
       "      <td>11.50</td>\n",
       "      <td>11.75</td>\n",
       "      <td>11.50</td>\n",
       "      <td>11.50</td>\n",
       "      <td>786800.0</td>\n",
       "      <td>0.0</td>\n",
       "      <td>1.0</td>\n",
       "      <td>0.060487</td>\n",
       "      <td>0.061802</td>\n",
       "      <td>0.060487</td>\n",
       "      <td>0.060487</td>\n",
       "      <td>100710400.0</td>\n",
       "    </tr>\n",
       "    <tr>\n",
       "      <th>1980-12-03</th>\n",
       "      <td>11.38</td>\n",
       "      <td>11.38</td>\n",
       "      <td>11.25</td>\n",
       "      <td>11.25</td>\n",
       "      <td>196700.0</td>\n",
       "      <td>0.0</td>\n",
       "      <td>1.0</td>\n",
       "      <td>0.059856</td>\n",
       "      <td>0.059856</td>\n",
       "      <td>0.059172</td>\n",
       "      <td>0.059172</td>\n",
       "      <td>25177600.0</td>\n",
       "    </tr>\n",
       "    <tr>\n",
       "      <th>1980-12-04</th>\n",
       "      <td>11.62</td>\n",
       "      <td>11.75</td>\n",
       "      <td>11.62</td>\n",
       "      <td>11.62</td>\n",
       "      <td>177300.0</td>\n",
       "      <td>0.0</td>\n",
       "      <td>1.0</td>\n",
       "      <td>0.061118</td>\n",
       "      <td>0.061802</td>\n",
       "      <td>0.061118</td>\n",
       "      <td>0.061118</td>\n",
       "      <td>22694400.0</td>\n",
       "    </tr>\n",
       "    <tr>\n",
       "      <th>1980-12-05</th>\n",
       "      <td>11.25</td>\n",
       "      <td>11.25</td>\n",
       "      <td>11.00</td>\n",
       "      <td>11.00</td>\n",
       "      <td>59300.0</td>\n",
       "      <td>0.0</td>\n",
       "      <td>1.0</td>\n",
       "      <td>0.059172</td>\n",
       "      <td>0.059172</td>\n",
       "      <td>0.057857</td>\n",
       "      <td>0.057857</td>\n",
       "      <td>7590400.0</td>\n",
       "    </tr>\n",
       "    <tr>\n",
       "      <th>1980-12-08</th>\n",
       "      <td>10.50</td>\n",
       "      <td>10.50</td>\n",
       "      <td>10.38</td>\n",
       "      <td>10.38</td>\n",
       "      <td>42300.0</td>\n",
       "      <td>0.0</td>\n",
       "      <td>1.0</td>\n",
       "      <td>0.055227</td>\n",
       "      <td>0.055227</td>\n",
       "      <td>0.054596</td>\n",
       "      <td>0.054596</td>\n",
       "      <td>5414400.0</td>\n",
       "    </tr>\n",
       "  </tbody>\n",
       "</table>\n",
       "</div>"
      ],
      "text/plain": [
       "             Open   High    Low  Close    Volume  Dividend  Split  Adj_Open  \\\n",
       "Date                                                                          \n",
       "1980-12-02  11.50  11.75  11.50  11.50  786800.0       0.0    1.0  0.060487   \n",
       "1980-12-03  11.38  11.38  11.25  11.25  196700.0       0.0    1.0  0.059856   \n",
       "1980-12-04  11.62  11.75  11.62  11.62  177300.0       0.0    1.0  0.061118   \n",
       "1980-12-05  11.25  11.25  11.00  11.00   59300.0       0.0    1.0  0.059172   \n",
       "1980-12-08  10.50  10.50  10.38  10.38   42300.0       0.0    1.0  0.055227   \n",
       "\n",
       "            Adj_High   Adj_Low  Adj_Close   Adj_Volume  \n",
       "Date                                                    \n",
       "1980-12-02  0.061802  0.060487   0.060487  100710400.0  \n",
       "1980-12-03  0.059856  0.059172   0.059172   25177600.0  \n",
       "1980-12-04  0.061802  0.061118   0.061118   22694400.0  \n",
       "1980-12-05  0.059172  0.057857   0.057857    7590400.0  \n",
       "1980-12-08  0.055227  0.054596   0.054596    5414400.0  "
      ]
     },
     "execution_count": 3,
     "metadata": {},
     "output_type": "execute_result"
    }
   ],
   "source": [
    "nike_data.head()"
   ]
  },
  {
   "cell_type": "markdown",
   "metadata": {},
   "source": [
    "More info on the data we use right [here](https://www.quandl.com/data/EOD/NKE-Nike-Inc-NKE-Stock-Prices-Dividends-and-Splits). For our purpose, we are going to only use the 'Close' column since it is heavily correlated with other columns and we have to choose one among them.\n",
    "We are lucky to have more than 30 years of historical data of good quality."
   ]
  },
  {
   "cell_type": "code",
   "execution_count": 4,
   "metadata": {},
   "outputs": [
    {
     "data": {
      "text/plain": [
       "count    9620.000000\n",
       "mean       55.669589\n",
       "std        27.152826\n",
       "min         6.870000\n",
       "25%        39.587500\n",
       "50%        56.500000\n",
       "75%        74.752500\n",
       "max       134.330000\n",
       "Name: Close, dtype: float64"
      ]
     },
     "execution_count": 4,
     "metadata": {},
     "output_type": "execute_result"
    }
   ],
   "source": [
    "stock_price = nike_data['Close']\n",
    "stock_price.describe()"
   ]
  },
  {
   "cell_type": "markdown",
   "metadata": {},
   "source": [
    "So we have more than 9620 data points. On average the stock price is about 55 dollars."
   ]
  },
  {
   "cell_type": "code",
   "execution_count": 5,
   "metadata": {},
   "outputs": [
    {
     "data": {
      "text/plain": [
       "<matplotlib.axes._subplots.AxesSubplot at 0x1c1f8c11d0>"
      ]
     },
     "execution_count": 5,
     "metadata": {},
     "output_type": "execute_result"
    },
    {
     "data": {
      "image/png": "[encoded data removed]",
      "text/plain": [
       "<Figure size 432x288 with 1 Axes>"
      ]
     },
     "metadata": {
      "needs_background": "light"
     },
     "output_type": "display_data"
    }
   ],
   "source": [
    "sns.lineplot(data = stock_price, markers = True)"
   ]
  },
  {
   "cell_type": "markdown",
   "metadata": {},
   "source": [
    "## Statistics\n",
    "There are several statistical approches to model time series and predict the future.\n",
    "Before applying a model, we need to study the data we have. We compute several metrics."
   ]
  },
  {
   "cell_type": "code",
   "execution_count": 6,
   "metadata": {},
   "outputs": [],
   "source": [
    "decomposition = sm.tsa.seasonal_decompose(stock_price, model='additive', freq=300)\n"
   ]
  },
  {
   "cell_type": "code",
   "execution_count": 7,
   "metadata": {},
   "outputs": [
    {
     "data": {
      "image/png": "[encoded data removed]",
      "text/plain": [
       "<Figure size 432x288 with 4 Axes>"
      ]
     },
     "metadata": {
      "needs_background": "light"
     },
     "output_type": "display_data"
    }
   ],
   "source": [
    "fig = decomposition.plot()"
   ]
  },
  {
   "cell_type": "markdown",
   "metadata": {},
   "source": [
    "Then, most of the models are made on the assumption of stationarity.\n",
    "A time series is said stationay if:\n",
    "* the mean remains constant over time\n",
    "* the variance too\n",
    "* the autocovariance does not depend on the time\n",
    "\n",
    "To verify the stationarity, we can use a statistical test. A good one is the Dickey Fuller test.\n",
    "\n",
    "### The Dickey Fuller test\n",
    "\n",
    "The Dickey-Fuller test is part of the statistical toolkit of **hypothesis testing**. A **statistical hypothesis test** is a method of statistical inference. It allows us to better know the properties of the data set we have and is commonly used in data science / analysis.\n",
    "\n",
    "Basically, we make two hypotheses:\n",
    "* the **null hypothesis**. Ex: means of two samples are equals, random variables are independant, the distribution is normal, the time series is stationary ...\n",
    "* the **alternate hypothesis**. Ex: means of two samples are different, there exists a relationship between random variables, the distribution is not normal, the time series is not stationary ...\n",
    "\n",
    "The two are compared and the aim is to determine if we **reject** or **accept** the null hypothesis. Note that the hypotheses are imposed by the test. We also define a threshold $\\alpha$, commonly set to 0.05 or 0.01. We compare the value obtained with this **significance level** to conclude. \n",
    "There are lots of statistical tests. For example:\n",
    "- [Student's t-test](https://en.wikipedia.org/wiki/Student%27s_t-test)\n",
    "- [Z-test](https://en.wikipedia.org/wiki/Z-test)\n",
    "- [Shapiro test](https://en.wikipedia.org/wiki/Shapiro%E2%80%93Wilk_test)\n",
    "\n",
    "Fortunately, we don't have to code a statistical test ourself and we can use functions already well coded and tested by the open source community."
   ]
  },
  {
   "cell_type": "code",
   "execution_count": 8,
   "metadata": {},
   "outputs": [
    {
     "data": {
      "text/plain": [
       "(-3.2378834674536665,\n",
       " 0.01789392388571921,\n",
       " 2,\n",
       " 9617,\n",
       " {'1%': -3.431030154550236,\n",
       "  '5%': -2.861840586533739,\n",
       "  '10%': -2.566929997097528},\n",
       " 38306.765920186604)"
      ]
     },
     "execution_count": 8,
     "metadata": {},
     "output_type": "execute_result"
    }
   ],
   "source": [
    "sm.tsa.stattools.adfuller(stock_price)"
   ]
  },
  {
   "cell_type": "markdown",
   "metadata": {},
   "source": [
    "From the documentation, here is the format of what the function returns:\n",
    "* adf : float\n",
    "    Test statistic\n",
    "* pvalue : float\n",
    "    MacKinnon's approximate p-value based on MacKinnon (1994, 2010)\n",
    "* usedlag : int\n",
    "    Number of lags used\n",
    "* nobs : int\n",
    "    Number of observations used for the ADF regression and calculation of\n",
    "    the critical values\n",
    "* critical values : dict\n",
    "    Critical values for the test statistic at the 1 %, 5 %, and 10 %\n",
    "    levels. Based on MacKinnon (2010)\n",
    "* icbest : float\n",
    "    The maximized information criterion if autolag is not None.\n",
    "* resstore : ResultStore, optional\n",
    "    A dummy class with results attached as attributes\n",
    "    \n",
    "So our test statistic is out of the acceptation interval and the p-value is less than the risk of 5 %, so we reject the null hypothesis. Our time series is not stationary."
   ]
  },
  {
   "cell_type": "code",
   "execution_count": null,
   "metadata": {},
   "outputs": [],
   "source": []
  }
 ],
 "metadata": {
  "kernelspec": {
   "display_name": "Python 3",
   "language": "python",
   "name": "python3"
  },
  "language_info": {
   "codemirror_mode": {
    "name": "ipython",
    "version": 3
   },
   "file_extension": ".py",
   "mimetype": "text/x-python",
   "name": "python",
   "nbconvert_exporter": "python",
   "pygments_lexer": "ipython3",
   "version": "3.6.8"
  }
 },
 "nbformat": 4,
 "nbformat_minor": 2
}
