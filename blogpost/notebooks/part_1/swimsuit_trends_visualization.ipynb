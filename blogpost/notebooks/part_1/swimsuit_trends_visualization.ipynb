{
 "cells": [
  {
   "cell_type": "markdown",
   "metadata": {},
   "source": [
    "# Swimsuit trends\n",
    "\n",
    "The aim of this notebook is to create beautiful visualizations in order to get a better understanding of the swimsuit market. The data come from [Google trends](https://trends.google.com/trends/).\n",
    "\n",
    "This notebook is part of a series of blog posts on time series forecasting. You can find the related article [here](https://goujonbe.github.io)."
   ]
  },
  {
   "cell_type": "code",
   "execution_count": 1,
   "metadata": {},
   "outputs": [],
   "source": [
    "import pandas as pd\n",
    "import matplotlib.pyplot as plt\n",
    "import matplotlib\n",
    "import seaborn as sns"
   ]
  },
  {
   "cell_type": "code",
   "execution_count": 2,
   "metadata": {},
   "outputs": [],
   "source": [
    "plt.style.use('seaborn-poster')\n",
    "font = {'family' : 'monospace',\n",
    "        'weight' : 'bold',\n",
    "        'size'   : 22}\n",
    "\n",
    "matplotlib.rc('font', **font)"
   ]
  },
  {
   "cell_type": "markdown",
   "metadata": {},
   "source": [
    "## Step 1: Retrieve data\n",
    "\n",
    "The time series are stored as csv files. We can easily read them with Pandas. Let's see what we have."
   ]
  },
  {
   "cell_type": "code",
   "execution_count": 3,
   "metadata": {},
   "outputs": [
    {
     "name": "stdout",
     "output_type": "stream",
     "text": [
      "bikini_trends.csv             swimsuit_trends.csv\r\n",
      "one_piece_swimsuit_trends.csv\r\n"
     ]
    }
   ],
   "source": [
    "!ls ../../data/part_1"
   ]
  },
  {
   "cell_type": "markdown",
   "metadata": {},
   "source": [
    "The value that represents the trend is complicated to imagine. The methodology to get that number is explained in the [google documentation](https://support.google.com/trends/answer/4365533?hl=en). It is a **scaled value** that takes into account the volume of queries in the given region. It is then a kind of a **ratio** between the topic and all the topics searched on Google.\n",
    "\n",
    "The data we have has the following parameters:\n",
    "\n",
    "* region: France\n",
    "* time period: last 5 years"
   ]
  },
  {
   "cell_type": "code",
   "execution_count": 4,
   "metadata": {},
   "outputs": [
    {
     "data": {
      "text/html": [
       "<div>\n",
       "<style scoped>\n",
       "    .dataframe tbody tr th:only-of-type {\n",
       "        vertical-align: middle;\n",
       "    }\n",
       "\n",
       "    .dataframe tbody tr th {\n",
       "        vertical-align: top;\n",
       "    }\n",
       "\n",
       "    .dataframe thead th {\n",
       "        text-align: right;\n",
       "    }\n",
       "</style>\n",
       "<table border=\"1\" class=\"dataframe\">\n",
       "  <thead>\n",
       "    <tr style=\"text-align: right;\">\n",
       "      <th></th>\n",
       "      <th>week</th>\n",
       "      <th>trend</th>\n",
       "    </tr>\n",
       "  </thead>\n",
       "  <tbody>\n",
       "    <tr>\n",
       "      <th>0</th>\n",
       "      <td>2014-06-08</td>\n",
       "      <td>73</td>\n",
       "    </tr>\n",
       "    <tr>\n",
       "      <th>1</th>\n",
       "      <td>2014-06-15</td>\n",
       "      <td>77</td>\n",
       "    </tr>\n",
       "    <tr>\n",
       "      <th>2</th>\n",
       "      <td>2014-06-22</td>\n",
       "      <td>74</td>\n",
       "    </tr>\n",
       "    <tr>\n",
       "      <th>3</th>\n",
       "      <td>2014-06-29</td>\n",
       "      <td>73</td>\n",
       "    </tr>\n",
       "    <tr>\n",
       "      <th>4</th>\n",
       "      <td>2014-07-06</td>\n",
       "      <td>65</td>\n",
       "    </tr>\n",
       "  </tbody>\n",
       "</table>\n",
       "</div>"
      ],
      "text/plain": [
       "         week  trend\n",
       "0  2014-06-08     73\n",
       "1  2014-06-15     77\n",
       "2  2014-06-22     74\n",
       "3  2014-06-29     73\n",
       "4  2014-07-06     65"
      ]
     },
     "execution_count": 4,
     "metadata": {},
     "output_type": "execute_result"
    }
   ],
   "source": [
    "swimsuit_trends = pd.read_csv('../../data/part_1/swimsuit_trends.csv', skiprows=1)\n",
    "swimsuit_trends.columns = ['week', 'trend']\n",
    "swimsuit_trends.head()"
   ]
  },
  {
   "cell_type": "code",
   "execution_count": 5,
   "metadata": {},
   "outputs": [
    {
     "data": {
      "text/html": [
       "<div>\n",
       "<style scoped>\n",
       "    .dataframe tbody tr th:only-of-type {\n",
       "        vertical-align: middle;\n",
       "    }\n",
       "\n",
       "    .dataframe tbody tr th {\n",
       "        vertical-align: top;\n",
       "    }\n",
       "\n",
       "    .dataframe thead th {\n",
       "        text-align: right;\n",
       "    }\n",
       "</style>\n",
       "<table border=\"1\" class=\"dataframe\">\n",
       "  <thead>\n",
       "    <tr style=\"text-align: right;\">\n",
       "      <th></th>\n",
       "      <th>week</th>\n",
       "      <th>trend</th>\n",
       "    </tr>\n",
       "  </thead>\n",
       "  <tbody>\n",
       "    <tr>\n",
       "      <th>0</th>\n",
       "      <td>2014-06-08</td>\n",
       "      <td>36</td>\n",
       "    </tr>\n",
       "    <tr>\n",
       "      <th>1</th>\n",
       "      <td>2014-06-15</td>\n",
       "      <td>42</td>\n",
       "    </tr>\n",
       "    <tr>\n",
       "      <th>2</th>\n",
       "      <td>2014-06-22</td>\n",
       "      <td>39</td>\n",
       "    </tr>\n",
       "    <tr>\n",
       "      <th>3</th>\n",
       "      <td>2014-06-29</td>\n",
       "      <td>34</td>\n",
       "    </tr>\n",
       "    <tr>\n",
       "      <th>4</th>\n",
       "      <td>2014-07-06</td>\n",
       "      <td>30</td>\n",
       "    </tr>\n",
       "  </tbody>\n",
       "</table>\n",
       "</div>"
      ],
      "text/plain": [
       "         week  trend\n",
       "0  2014-06-08     36\n",
       "1  2014-06-15     42\n",
       "2  2014-06-22     39\n",
       "3  2014-06-29     34\n",
       "4  2014-07-06     30"
      ]
     },
     "execution_count": 5,
     "metadata": {},
     "output_type": "execute_result"
    }
   ],
   "source": [
    "one_piece_swimsuit_trends = pd.read_csv('../../data/part_1/one_piece_swimsuit_trends.csv', skiprows=1)\n",
    "one_piece_swimsuit_trends.columns = ['week', 'trend']\n",
    "one_piece_swimsuit_trends.head()"
   ]
  },
  {
   "cell_type": "code",
   "execution_count": 6,
   "metadata": {},
   "outputs": [
    {
     "data": {
      "text/html": [
       "<div>\n",
       "<style scoped>\n",
       "    .dataframe tbody tr th:only-of-type {\n",
       "        vertical-align: middle;\n",
       "    }\n",
       "\n",
       "    .dataframe tbody tr th {\n",
       "        vertical-align: top;\n",
       "    }\n",
       "\n",
       "    .dataframe thead th {\n",
       "        text-align: right;\n",
       "    }\n",
       "</style>\n",
       "<table border=\"1\" class=\"dataframe\">\n",
       "  <thead>\n",
       "    <tr style=\"text-align: right;\">\n",
       "      <th></th>\n",
       "      <th>week</th>\n",
       "      <th>trend</th>\n",
       "    </tr>\n",
       "  </thead>\n",
       "  <tbody>\n",
       "    <tr>\n",
       "      <th>0</th>\n",
       "      <td>2014-06-08</td>\n",
       "      <td>92</td>\n",
       "    </tr>\n",
       "    <tr>\n",
       "      <th>1</th>\n",
       "      <td>2014-06-15</td>\n",
       "      <td>97</td>\n",
       "    </tr>\n",
       "    <tr>\n",
       "      <th>2</th>\n",
       "      <td>2014-06-22</td>\n",
       "      <td>99</td>\n",
       "    </tr>\n",
       "    <tr>\n",
       "      <th>3</th>\n",
       "      <td>2014-06-29</td>\n",
       "      <td>100</td>\n",
       "    </tr>\n",
       "    <tr>\n",
       "      <th>4</th>\n",
       "      <td>2014-07-06</td>\n",
       "      <td>90</td>\n",
       "    </tr>\n",
       "  </tbody>\n",
       "</table>\n",
       "</div>"
      ],
      "text/plain": [
       "         week  trend\n",
       "0  2014-06-08     92\n",
       "1  2014-06-15     97\n",
       "2  2014-06-22     99\n",
       "3  2014-06-29    100\n",
       "4  2014-07-06     90"
      ]
     },
     "execution_count": 6,
     "metadata": {},
     "output_type": "execute_result"
    }
   ],
   "source": [
    "bikini_trends = pd.read_csv('../../data/part_1/bikini_trends.csv', skiprows=1)\n",
    "bikini_trends.columns = ['week', 'trend']\n",
    "bikini_trends.head()"
   ]
  },
  {
   "cell_type": "markdown",
   "metadata": {},
   "source": [
    "## Step 2: Data cleaning and preprocessing\n",
    "\n",
    "We are lucky, the data set is clean and there soes not seem to be missing values. Let's confirm that immediately."
   ]
  },
  {
   "cell_type": "code",
   "execution_count": 7,
   "metadata": {},
   "outputs": [],
   "source": [
    "def get_count_missing_values_in_each_column(data):\n",
    "    \"\"\"\n",
    "        Prints the count of missing values\n",
    "        in each column of a pandas dataframe\n",
    "    \"\"\"\n",
    "    print(f'Number of missing values in the data set: \\n{data.isna().sum()}')"
   ]
  },
  {
   "cell_type": "code",
   "execution_count": 8,
   "metadata": {},
   "outputs": [
    {
     "name": "stdout",
     "output_type": "stream",
     "text": [
      "Number of missing values in the data set: \n",
      "week     0\n",
      "trend    0\n",
      "dtype: int64\n"
     ]
    }
   ],
   "source": [
    "get_count_missing_values_in_each_column(swimsuit_trends)"
   ]
  },
  {
   "cell_type": "markdown",
   "metadata": {},
   "source": [
    "I check for the others and it is the same thing, believe me.\n",
    "\n",
    "Now we want to transform a the data set so that the date column has a date format (current format is string) and this column will be the index. The data set is small in this case but this is usually a good practice when you manipulate time series data to set the date column as the index. It makes all the operations of selection, aggregations and so on much faster. "
   ]
  },
  {
   "cell_type": "code",
   "execution_count": 9,
   "metadata": {},
   "outputs": [
    {
     "data": {
      "text/plain": [
       "pandas.core.frame.DataFrame"
      ]
     },
     "execution_count": 9,
     "metadata": {},
     "output_type": "execute_result"
    }
   ],
   "source": [
    "type(swimsuit_trends)"
   ]
  },
  {
   "cell_type": "code",
   "execution_count": 10,
   "metadata": {},
   "outputs": [],
   "source": [
    "def get_dataframe_with_date_column_as_index(data, date_column_name, value_column_name):\n",
    "    \"\"\"\n",
    "        Returns the original dataframe\n",
    "        as a series with the date column as a DateTimeIndex\n",
    "    \"\"\"\n",
    "    data[date_column_name] = pd.to_datetime(data[date_column_name])\n",
    "    data = data.set_index(date_column_name)\n",
    "    return data[value_column_name]"
   ]
  },
  {
   "cell_type": "code",
   "execution_count": 11,
   "metadata": {},
   "outputs": [],
   "source": [
    "swimsuit_trends = get_dataframe_with_date_column_as_index(swimsuit_trends,\n",
    "                                                          'week',\n",
    "                                                          'trend')\n",
    "one_piece_swimsuit_trends = get_dataframe_with_date_column_as_index(\n",
    "    one_piece_swimsuit_trends,\n",
    "    'week',\n",
    "    'trend')\n",
    "bikini_trends = get_dataframe_with_date_column_as_index(bikini_trends,\n",
    "                                                        'week',\n",
    "                                                        'trend')"
   ]
  },
  {
   "cell_type": "markdown",
   "metadata": {},
   "source": [
    "## Step 3: Visualization"
   ]
  },
  {
   "cell_type": "code",
   "execution_count": 12,
   "metadata": {},
   "outputs": [
    {
     "data": {
      "image/png": "[encoded data removed]",
      "text/plain": [
       "<Figure size 1080x720 with 1 Axes>"
      ]
     },
     "metadata": {
      "needs_background": "light"
     },
     "output_type": "display_data"
    }
   ],
   "source": [
    "plt.figure(figsize=(15,10))\n",
    "plt.xlabel('Time (weekly frequency)', fontsize=15)\n",
    "plt.ylabel('Trend', fontsize=15)\n",
    "plt.grid(True)\n",
    "plt.plot(swimsuit_trends.index, swimsuit_trends.values, marker='o')\n",
    "plt.title('Evolution of the volume of searches on the topic of swimsuits across time', color='gray')\n",
    "plt.savefig('/Users/benoit/blog/assets/images/ts_series_part_1/swimsuits_trends.png', format='png')"
   ]
  },
  {
   "cell_type": "code",
   "execution_count": null,
   "metadata": {},
   "outputs": [],
   "source": []
  }
 ],
 "metadata": {
  "kernelspec": {
   "display_name": "Python 3",
   "language": "python",
   "name": "python3"
  },
  "language_info": {
   "codemirror_mode": {
    "name": "ipython",
    "version": 3
   },
   "file_extension": ".py",
   "mimetype": "text/x-python",
   "name": "python",
   "nbconvert_exporter": "python",
   "pygments_lexer": "ipython3",
   "version": "3.7.1"
  }
 },
 "nbformat": 4,
 "nbformat_minor": 2
}
